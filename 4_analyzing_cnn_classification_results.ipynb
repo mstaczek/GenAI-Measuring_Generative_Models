{
 "cells": [
  {
   "cell_type": "code",
   "execution_count": 1,
   "metadata": {},
   "outputs": [],
   "source": [
    "import pandas as pd"
   ]
  },
  {
   "cell_type": "markdown",
   "metadata": {},
   "source": [
    "# CNN classifier results for CARS\n",
    "\n",
    "CNN pretrained on ImageNet predicted various classes from that dataset. Now, we manually classify these classes into cars or not cars."
   ]
  },
  {
   "cell_type": "code",
   "execution_count": 2,
   "metadata": {},
   "outputs": [
    {
     "data": {
      "text/plain": [
       "array(['trailer truck, tractor trailer, trucking rig, rig, articulated lorry, semi',\n",
       "       'cab, hack, taxi, taxicab', 'moving van',\n",
       "       'recreational vehicle, RV, R.V.',\n",
       "       'police van, police wagon, paddy wagon, patrol wagon, wagon, black Maria',\n",
       "       'pickup, pickup truck', 'minivan', 'warplane, military plane',\n",
       "       'convertible', 'limousine, limo', 'tow truck, tow car, wrecker',\n",
       "       'sports car, sport car',\n",
       "       'beach wagon, station wagon, wagon, estate car, beach waggon, station waggon, waggon',\n",
       "       'Model T', 'school bus', 'racer, race car, racing car',\n",
       "       'fire engine, fire truck', 'folding chair',\n",
       "       'grille, radiator grille', 'jeep, landrover', 'minibus',\n",
       "       'traffic light, traffic signal, stoplight',\n",
       "       'gas pump, gasoline pump, petrol pump, island dispenser',\n",
       "       'American lobster, Northern lobster, Maine lobster, Homarus americanus',\n",
       "       'dock, dockage, docking facility', 'library',\n",
       "       'streetcar, tram, tramcar, trolley, trolley car'], dtype=object)"
      ]
     },
     "execution_count": 2,
     "metadata": {},
     "output_type": "execute_result"
    }
   ],
   "source": [
    "path_to_csv = 'datasets_generated_ready_models/SD_XL/classifier_predictions_top_1_cars.csv'\n",
    "df_sdxl_cars = pd.read_csv(path_to_csv)\n",
    "df_sdxl_cars['prediction'].unique()"
   ]
  },
  {
   "cell_type": "code",
   "execution_count": 3,
   "metadata": {},
   "outputs": [
    {
     "data": {
      "text/plain": [
       "array(['sports car, sport car', 'convertible',\n",
       "       'recreational vehicle, RV, R.V.', 'minibus',\n",
       "       'traffic light, traffic signal, stoplight', 'fountain',\n",
       "       'cab, hack, taxi, taxicab', 'pickup, pickup truck', 'comic book',\n",
       "       'limousine, limo', 'tow truck, tow car, wrecker',\n",
       "       'seat belt, seatbelt', 'jeep, landrover', 'Model T',\n",
       "       'racer, race car, racing car', 'school bus', 'golfcart, golf cart',\n",
       "       'car wheel', 'fire engine, fire truck',\n",
       "       \"plunger, plumber's helper\",\n",
       "       'cinema, movie theater, movie theatre, movie house, picture palace',\n",
       "       'syringe', 'library', 'coral reef', 'toyshop',\n",
       "       'container ship, containership, container vessel', 'wooden spoon',\n",
       "       'crash helmet', 'minivan'], dtype=object)"
      ]
     },
     "execution_count": 3,
     "metadata": {},
     "output_type": "execute_result"
    }
   ],
   "source": [
    "path_to_csv = 'datasets_generated_ready_models/DALLE3/classifier_predictions_top_1_cars.csv'\n",
    "df_dalle_cars = pd.read_csv(path_to_csv)\n",
    "df_dalle_cars['prediction'].unique()"
   ]
  },
  {
   "cell_type": "code",
   "execution_count": 4,
   "metadata": {},
   "outputs": [],
   "source": [
    "# hand-picked class names from the predictions that represent cars or are similar\n",
    "\n",
    "car_names = ['seat belt, seatbelt,jeep, landrover',\n",
    " 'sports car, sport car',\n",
    " 'pickup, pickup truck',\n",
    " 'convertible',\n",
    " 'school bus',\n",
    " 'limousine, limo',\n",
    " 'streetcar, tram, tramcar, trolley, trolley car',\n",
    " 'minivan',\n",
    " 'recreational vehicle, RV, R.V.',\n",
    " 'racer, race car, racing car',\n",
    " 'Model T',\n",
    " 'tow truck, tow car, wrecker',\n",
    " 'recreational vehicle, RV, R.V.,minibus',\n",
    " 'beach wagon, station wagon, wagon, estate car, beach waggon, station waggon, waggon',\n",
    " 'school bus,golfcart, golf cart',\n",
    " 'minibus',\n",
    " 'fire engine, fire truck',\n",
    " 'moving van',\n",
    " 'jeep, landrover',\n",
    " 'police van, police wagon, paddy wagon, patrol wagon, wagon, black Maria',\n",
    " 'trailer truck, tractor trailer, trucking rig, rig, articulated lorry, semi',\n",
    " 'cab, hack, taxi, taxicab']"
   ]
  },
  {
   "cell_type": "code",
   "execution_count": 5,
   "metadata": {},
   "outputs": [
    {
     "name": "stdout",
     "output_type": "stream",
     "text": [
      "SDXL\n",
      "Total images: 50\n",
      "Images classified as cars: 41\n",
      "Percentage of images classified as cars: 82.00%\n"
     ]
    }
   ],
   "source": [
    "df_sdxl_cars['classified_as_car'] = df_sdxl_cars.prediction.apply(lambda x: 'car' if x in car_names else 'other')\n",
    "cars_in_images_sdxl = (df_sdxl_cars['classified_as_car'] == 'car').sum()\n",
    "\n",
    "print(\"SDXL\")\n",
    "print(f\"Total images: {len(df_sdxl_cars)}\")\n",
    "print(f\"Images classified as cars: {cars_in_images_sdxl}\")\n",
    "print(f\"Percentage of images classified as cars: {cars_in_images_sdxl/len(df_sdxl_cars)*100:.2f}%\")"
   ]
  },
  {
   "cell_type": "code",
   "execution_count": 6,
   "metadata": {},
   "outputs": [
    {
     "name": "stdout",
     "output_type": "stream",
     "text": [
      "DALLE\n",
      "Total images: 50\n",
      "Images classified as cars: 31\n",
      "Percentage of images classified as cars: 62.00%\n"
     ]
    }
   ],
   "source": [
    "df_dalle_cars['classified_as_car'] = df_dalle_cars.prediction.apply(lambda x: 'car' if x in car_names else 'other')\n",
    "cars_in_images_dalle = (df_dalle_cars['classified_as_car'] == 'car').sum()\n",
    "\n",
    "print(\"DALLE\")\n",
    "print(f\"Total images: {len(df_dalle_cars)}\")\n",
    "print(f\"Images classified as cars: {cars_in_images_dalle}\")\n",
    "print(f\"Percentage of images classified as cars: {cars_in_images_dalle/len(df_dalle_cars)*100:.2f}%\")"
   ]
  },
  {
   "cell_type": "markdown",
   "metadata": {},
   "source": [
    "# CNN classifier results for WILDLIFE\n",
    "\n",
    "CNN pretrained on ImageNet predicted various classes from that dataset. Now, we manually classify these classes into animals or not animals."
   ]
  },
  {
   "cell_type": "code",
   "execution_count": 7,
   "metadata": {},
   "outputs": [
    {
     "data": {
      "text/plain": [
       "array(['lion, king of beasts, Panthera leo',\n",
       "       'African elephant, Loxodonta africana',\n",
       "       'ice bear, polar bear, Ursus Maritimus, Thalarctos maritimus',\n",
       "       'killer whale, killer, orca, grampus, sea wolf, Orcinus orca',\n",
       "       'meerkat, mierkat',\n",
       "       'bald eagle, American eagle, Haliaeetus leucocephalus',\n",
       "       'king penguin, Aptenodytes patagonica', 'otter',\n",
       "       'impala, Aepyceros melampus', 'coral reef',\n",
       "       'brown bear, bruin, Ursus arctos', 'ibex, Capra ibex',\n",
       "       'cheetah, chetah, Acinonyx jubatus', 'toucan', 'bee', 'drake',\n",
       "       'tiger, Panthera tigris',\n",
       "       'leatherback turtle, leatherback, leathery turtle, Dermochelys coriacea',\n",
       "       'sea lion', 'great grey owl, great gray owl, Strix nebulosa',\n",
       "       'flamingo', 'red fox, Vulpes vulpes', 'leopard, Panthera pardus',\n",
       "       'grey whale, gray whale, devilfish, Eschrichtius gibbosus, Eschrichtius robustus',\n",
       "       'bison',\n",
       "       'koala, koala bear, kangaroo bear, native bear, Phascolarctos cinereus',\n",
       "       'zebra', 'chimpanzee, chimp, Pan troglodytes',\n",
       "       'gorilla, Gorilla gorilla', 'fountain', 'gazelle',\n",
       "       'water buffalo, water ox, Asiatic buffalo, Bubalus bubalis',\n",
       "       'tiger shark, Galeocerdo cuvieri', 'wallaby, brush kangaroo',\n",
       "       'goose', 'hyena, hyaena', 'kite',\n",
       "       'Madagascar cat, ring-tailed lemur, Lemur catta',\n",
       "       'red-backed sandpiper, dunlin, Erolia alpina',\n",
       "       'timber wolf, grey wolf, gray wolf, Canis lupus',\n",
       "       'hippopotamus, hippo, river horse, Hippopotamus amphibius',\n",
       "       'macaque', 'macaw'], dtype=object)"
      ]
     },
     "execution_count": 7,
     "metadata": {},
     "output_type": "execute_result"
    }
   ],
   "source": [
    "path_to_csv = 'datasets_generated_ready_models/SD_XL/classifier_predictions_top_1_wildlife.csv'\n",
    "df_sdxl_wildlife = pd.read_csv(path_to_csv)\n",
    "df_sdxl_wildlife['prediction'].unique()"
   ]
  },
  {
   "cell_type": "code",
   "execution_count": 8,
   "metadata": {},
   "outputs": [
    {
     "data": {
      "text/plain": [
       "array(['lion, king of beasts, Panthera leo',\n",
       "       'African elephant, Loxodonta africana',\n",
       "       'ice bear, polar bear, Ursus Maritimus, Thalarctos maritimus',\n",
       "       'fountain', 'meerkat, mierkat',\n",
       "       'bald eagle, American eagle, Haliaeetus leucocephalus',\n",
       "       'king penguin, Aptenodytes patagonica', 'otter', 'alp',\n",
       "       'coral reef', 'brown bear, bruin, Ursus arctos',\n",
       "       'ibex, Capra ibex', 'zebra', 'toucan', 'bee', 'drake',\n",
       "       'tiger, Panthera tigris', 'seashore, coast, seacoast, sea-coast',\n",
       "       'sea lion', 'great grey owl, great gray owl, Strix nebulosa',\n",
       "       'tiger shark, Galeocerdo cuvieri', 'flamingo',\n",
       "       'kit fox, Vulpes macrotis', 'leopard, Panthera pardus',\n",
       "       'grey whale, gray whale, devilfish, Eschrichtius gibbosus, Eschrichtius robustus',\n",
       "       'mask', 'bison',\n",
       "       'koala, koala bear, kangaroo bear, native bear, Phascolarctos cinereus',\n",
       "       'chimpanzee, chimp, Pan troglodytes', 'gorilla, Gorilla gorilla',\n",
       "       'water bottle', 'triceratops', 'wallaby, brush kangaroo',\n",
       "       'black swan, Cygnus atratus', 'hyena, hyaena',\n",
       "       'Madagascar cat, ring-tailed lemur, Lemur catta',\n",
       "       'Eskimo dog, husky', 'cheetah, chetah, Acinonyx jubatus',\n",
       "       'hippopotamus, hippo, river horse, Hippopotamus amphibius',\n",
       "       'spider monkey, Ateles geoffroyi', 'macaw'], dtype=object)"
      ]
     },
     "execution_count": 8,
     "metadata": {},
     "output_type": "execute_result"
    }
   ],
   "source": [
    "path_to_csv = 'datasets_generated_ready_models/DALLE3/classifier_predictions_top_1_wildlife.csv'\n",
    "df_dalle_wildlife = pd.read_csv(path_to_csv)\n",
    "df_dalle_wildlife['prediction'].unique()"
   ]
  },
  {
   "cell_type": "markdown",
   "metadata": {},
   "source": [
    "In the classes above, most were animals, and just a few were not:"
   ]
  },
  {
   "cell_type": "code",
   "execution_count": 9,
   "metadata": {},
   "outputs": [],
   "source": [
    "not_wildlife = [\n",
    "    'fountain',\n",
    "    'water bottle',\n",
    "]"
   ]
  },
  {
   "cell_type": "code",
   "execution_count": 10,
   "metadata": {},
   "outputs": [
    {
     "name": "stdout",
     "output_type": "stream",
     "text": [
      "SDXL\n",
      "Total images: 50\n",
      "Images classified as wildlife: 49\n",
      "Percentage of images classified as wildlife: 98.00%\n"
     ]
    }
   ],
   "source": [
    "df_sdxl_wildlife['classified_as_wildlife'] = df_sdxl_wildlife.prediction.apply(lambda x: 'other' if x in not_wildlife else 'wildlife')\n",
    "wildlife_in_images_sdxl = (df_sdxl_wildlife['classified_as_wildlife'] == 'wildlife').sum()\n",
    "\n",
    "print(\"SDXL\")\n",
    "print(f\"Total images: {len(df_sdxl_wildlife)}\")\n",
    "print(f\"Images classified as wildlife: {wildlife_in_images_sdxl}\")\n",
    "print(f\"Percentage of images classified as wildlife: {wildlife_in_images_sdxl/len(df_sdxl_wildlife)*100:.2f}%\")"
   ]
  },
  {
   "cell_type": "code",
   "execution_count": 11,
   "metadata": {},
   "outputs": [
    {
     "name": "stdout",
     "output_type": "stream",
     "text": [
      "DALLE\n",
      "Total images: 50\n",
      "Images classified as wildlife: 48\n",
      "Percentage of images classified as wildlife: 96.00%\n"
     ]
    }
   ],
   "source": [
    "df_dalle_wildlife['classified_as_wildlife'] = df_dalle_wildlife.prediction.apply(lambda x: 'other' if x in not_wildlife else 'wildlife')\n",
    "wildlife_in_images_dalle = (df_dalle_wildlife['classified_as_wildlife'] == 'wildlife').sum()\n",
    "\n",
    "print(\"DALLE\")\n",
    "print(f\"Total images: {len(df_dalle_wildlife)}\")\n",
    "print(f\"Images classified as wildlife: {wildlife_in_images_dalle}\")\n",
    "print(f\"Percentage of images classified as wildlife: {wildlife_in_images_dalle/len(df_dalle_wildlife)*100:.2f}%\")"
   ]
  },
  {
   "cell_type": "markdown",
   "metadata": {},
   "source": [
    "# Hypothesis testing"
   ]
  },
  {
   "cell_type": "code",
   "execution_count": 12,
   "metadata": {},
   "outputs": [
    {
     "data": {
      "text/plain": [
       "(0.82, 0.62, 0.98, 0.96)"
      ]
     },
     "execution_count": 12,
     "metadata": {},
     "output_type": "execute_result"
    }
   ],
   "source": [
    "Sn_SDXL_cars = cars_in_images_sdxl/len(df_sdxl_cars)\n",
    "Sn_DALLE_cars = cars_in_images_dalle/len(df_dalle_cars)\n",
    "Sp_SDXL_wildlife = wildlife_in_images_sdxl/len(df_sdxl_wildlife)\n",
    "Sp_DALLE_wildlife = wildlife_in_images_dalle/len(df_dalle_wildlife)\n",
    "\n",
    "Sn_SDXL_cars, Sn_DALLE_cars, Sp_SDXL_wildlife, Sp_DALLE_wildlife"
   ]
  },
  {
   "cell_type": "code",
   "execution_count": 14,
   "metadata": {},
   "outputs": [
    {
     "data": {
      "text/html": [
       "<div>\n",
       "<style scoped>\n",
       "    .dataframe tbody tr th:only-of-type {\n",
       "        vertical-align: middle;\n",
       "    }\n",
       "\n",
       "    .dataframe tbody tr th {\n",
       "        vertical-align: top;\n",
       "    }\n",
       "\n",
       "    .dataframe thead th {\n",
       "        text-align: right;\n",
       "    }\n",
       "</style>\n",
       "<table border=\"1\" class=\"dataframe\">\n",
       "  <thead>\n",
       "    <tr style=\"text-align: right;\">\n",
       "      <th></th>\n",
       "      <th>Method</th>\n",
       "      <th>Experiment</th>\n",
       "      <th>N</th>\n",
       "      <th>Sn</th>\n",
       "      <th>p0=0.5</th>\n",
       "      <th>p0=0.6</th>\n",
       "      <th>p0=0.7</th>\n",
       "      <th>p0=0.8</th>\n",
       "      <th>p0=0.9</th>\n",
       "      <th>p0 for confidence=0.95</th>\n",
       "    </tr>\n",
       "  </thead>\n",
       "  <tbody>\n",
       "    <tr>\n",
       "      <th>0</th>\n",
       "      <td>CNN</td>\n",
       "      <td>SDXL cars</td>\n",
       "      <td>50</td>\n",
       "      <td>0.82</td>\n",
       "      <td>1.000</td>\n",
       "      <td>0.992</td>\n",
       "      <td>0.763</td>\n",
       "      <td>0.039</td>\n",
       "      <td>0.000</td>\n",
       "      <td>0.647</td>\n",
       "    </tr>\n",
       "    <tr>\n",
       "      <th>1</th>\n",
       "      <td>CNN</td>\n",
       "      <td>DALLE cars</td>\n",
       "      <td>50</td>\n",
       "      <td>0.62</td>\n",
       "      <td>0.763</td>\n",
       "      <td>0.039</td>\n",
       "      <td>0.000</td>\n",
       "      <td>0.000</td>\n",
       "      <td>0.000</td>\n",
       "      <td>0.447</td>\n",
       "    </tr>\n",
       "    <tr>\n",
       "      <th>2</th>\n",
       "      <td>CNN</td>\n",
       "      <td>SDXL wildlife</td>\n",
       "      <td>50</td>\n",
       "      <td>0.98</td>\n",
       "      <td>1.000</td>\n",
       "      <td>1.000</td>\n",
       "      <td>1.000</td>\n",
       "      <td>0.961</td>\n",
       "      <td>0.473</td>\n",
       "      <td>0.807</td>\n",
       "    </tr>\n",
       "    <tr>\n",
       "      <th>3</th>\n",
       "      <td>CNN</td>\n",
       "      <td>DALLE wildlife</td>\n",
       "      <td>50</td>\n",
       "      <td>0.96</td>\n",
       "      <td>1.000</td>\n",
       "      <td>1.000</td>\n",
       "      <td>0.999</td>\n",
       "      <td>0.923</td>\n",
       "      <td>0.302</td>\n",
       "      <td>0.787</td>\n",
       "    </tr>\n",
       "  </tbody>\n",
       "</table>\n",
       "</div>"
      ],
      "text/plain": [
       "  Method      Experiment   N    Sn  p0=0.5  p0=0.6  p0=0.7  p0=0.8  p0=0.9  \\\n",
       "0    CNN       SDXL cars  50  0.82   1.000   0.992   0.763   0.039   0.000   \n",
       "1    CNN      DALLE cars  50  0.62   0.763   0.039   0.000   0.000   0.000   \n",
       "2    CNN   SDXL wildlife  50  0.98   1.000   1.000   1.000   0.961   0.473   \n",
       "3    CNN  DALLE wildlife  50  0.96   1.000   1.000   0.999   0.923   0.302   \n",
       "\n",
       "   p0 for confidence=0.95  \n",
       "0                   0.647  \n",
       "1                   0.447  \n",
       "2                   0.807  \n",
       "3                   0.787  "
      ]
     },
     "execution_count": 14,
     "metadata": {},
     "output_type": "execute_result"
    }
   ],
   "source": [
    "import numpy as np\n",
    "\n",
    "def add_results_row(results, experiment_name, N, Sn, p0_to_test=[0.5, 0.6, 0.7, 0.8, 0.9]):\n",
    "    results[\"Method\"].append(\"CNN\")\n",
    "    results[\"Experiment\"].append(experiment_name)\n",
    "    results[\"N\"].append(N)\n",
    "    results[\"Sn\"].append(Sn)\n",
    "    for p0 in p0_to_test:\n",
    "        if Sn <= p0:\n",
    "            results[f\"p0={p0}\"].append(0)\n",
    "            continue\n",
    "        delta = np.exp(-2*N*(Sn-p0)**2)\n",
    "        results[f\"p0={p0}\"].append(round(1-delta, 3))\n",
    "    p0_for_CI_095 = Sn - np.sqrt(np.log(0.05)/(-2*N))\n",
    "    results[\"p0 for confidence=0.95\"].append(round(p0_for_CI_095, 3))\n",
    "\n",
    "results = {\n",
    "    \"Method\": [],\n",
    "    \"Experiment\": [],\n",
    "    \"N\": [],\n",
    "    \"Sn\" : [],\n",
    "    \"p0=0.5\": [],\n",
    "    \"p0=0.6\": [],\n",
    "    \"p0=0.7\": [],\n",
    "    \"p0=0.8\": [],\n",
    "    \"p0=0.9\": [],\n",
    "    \"p0 for confidence=0.95\": [],\n",
    "}\n",
    "\n",
    "add_results_row(results, \"SDXL cars\", len(df_sdxl_cars), Sn_SDXL_cars)\n",
    "add_results_row(results, \"DALLE cars\", len(df_dalle_cars), Sn_DALLE_cars)\n",
    "add_results_row(results, \"SDXL wildlife\", len(df_sdxl_wildlife), Sp_SDXL_wildlife)\n",
    "add_results_row(results, \"DALLE wildlife\", len(df_dalle_wildlife), Sp_DALLE_wildlife)\n",
    "\n",
    "df_results = pd.DataFrame(results)\n",
    "df_results.to_csv(\"confidence_matrix_CNN_SDXL_DALLE.csv\", index=False)\n",
    "df_results"
   ]
  },
  {
   "cell_type": "markdown",
   "metadata": {},
   "source": [
    "# Note: dalle cars top5 are include more car predictions than just top1"
   ]
  }
 ],
 "metadata": {
  "kernelspec": {
   "display_name": "gnn-homeworks",
   "language": "python",
   "name": "python3"
  },
  "language_info": {
   "codemirror_mode": {
    "name": "ipython",
    "version": 3
   },
   "file_extension": ".py",
   "mimetype": "text/x-python",
   "name": "python",
   "nbconvert_exporter": "python",
   "pygments_lexer": "ipython3",
   "version": "3.11.4"
  }
 },
 "nbformat": 4,
 "nbformat_minor": 2
}
