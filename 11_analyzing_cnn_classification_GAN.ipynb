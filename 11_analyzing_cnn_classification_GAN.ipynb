{
 "cells": [
  {
   "cell_type": "code",
   "execution_count": 1,
   "metadata": {},
   "outputs": [],
   "source": [
    "import pandas as pd"
   ]
  },
  {
   "cell_type": "markdown",
   "metadata": {},
   "source": [
    "# CNN classifier results for CARS\n",
    "\n",
    "CNN pretrained on ImageNet predicted various classes from that dataset. Now, we manually classify these classes into cars or not cars."
   ]
  },
  {
   "cell_type": "code",
   "execution_count": 2,
   "metadata": {},
   "outputs": [
    {
     "data": {
      "text/plain": [
       "array(['beach wagon, station wagon, wagon, estate car, beach waggon, station waggon, waggon',\n",
       "       'car wheel', 'racer, race car, racing car',\n",
       "       'cab, hack, taxi, taxicab', 'grille, radiator grille',\n",
       "       'pickup, pickup truck', 'convertible', 'sports car, sport car',\n",
       "       'Model T', 'television, television system', 'minivan',\n",
       "       'limousine, limo', 'motor scooter, scooter', 'library',\n",
       "       'jeep, landrover', 'minibus', 'maillot', 'moving van', 'go-kart',\n",
       "       'trailer truck, tractor trailer, trucking rig, rig, articulated lorry, semi',\n",
       "       'carousel, carrousel, merry-go-round, roundabout, whirligig',\n",
       "       'snowmobile', 'bobsled, bobsleigh, bob', 'half track',\n",
       "       'tow truck, tow car, wrecker', 'ambulance', 'harvester, reaper',\n",
       "       'golfcart, golf cart', 'web site, website, internet site, site',\n",
       "       'street sign'], dtype=object)"
      ]
     },
     "execution_count": 2,
     "metadata": {},
     "output_type": "execute_result"
    }
   ],
   "source": [
    "path_to_csv = 'datasets_generated_ready_models/stylegan2/classifier_predictions_top_1_cars.csv'\n",
    "df_stylegan2_cars = pd.read_csv(path_to_csv)\n",
    "df_stylegan2_cars['prediction'].unique()"
   ]
  },
  {
   "cell_type": "code",
   "execution_count": 3,
   "metadata": {},
   "outputs": [],
   "source": [
    "# hand-picked class names from the predictions that represent cars or are similar\n",
    "\n",
    "car_names = ['seat belt, seatbelt,jeep, landrover',\n",
    " 'sports car, sport car',\n",
    " 'pickup, pickup truck',\n",
    " 'convertible',\n",
    " 'school bus',\n",
    " 'limousine, limo',\n",
    " 'streetcar, tram, tramcar, trolley, trolley car',\n",
    " 'minivan',\n",
    " 'recreational vehicle, RV, R.V.',\n",
    " 'racer, race car, racing car',\n",
    " 'Model T',\n",
    " 'tow truck, tow car, wrecker',\n",
    " 'recreational vehicle, RV, R.V.,minibus',\n",
    " 'beach wagon, station wagon, wagon, estate car, beach waggon, station waggon, waggon',\n",
    " 'school bus,golfcart, golf cart',\n",
    " 'minibus',\n",
    " 'fire engine, fire truck',\n",
    " 'moving van',\n",
    " 'jeep, landrover',\n",
    " 'police van, police wagon, paddy wagon, patrol wagon, wagon, black Maria',\n",
    " 'trailer truck, tractor trailer, trucking rig, rig, articulated lorry, semi',\n",
    " 'cab, hack, taxi, taxicab',\n",
    " 'go-kart']"
   ]
  },
  {
   "cell_type": "code",
   "execution_count": 4,
   "metadata": {},
   "outputs": [
    {
     "name": "stdout",
     "output_type": "stream",
     "text": [
      "stylegan2\n",
      "Total images: 200\n",
      "Images classified as cars: 149\n",
      "Percentage of images classified as cars: 74.50%\n"
     ]
    }
   ],
   "source": [
    "df_stylegan2_cars['classified_as_car'] = df_stylegan2_cars.prediction.apply(lambda x: 'car' if x in car_names else 'other')\n",
    "cars_in_images_stylegan2 = (df_stylegan2_cars['classified_as_car'] == 'car').sum()\n",
    "\n",
    "print(\"stylegan2\")\n",
    "print(f\"Total images: {len(df_stylegan2_cars)}\")\n",
    "print(f\"Images classified as cars: {cars_in_images_stylegan2}\")\n",
    "print(f\"Percentage of images classified as cars: {cars_in_images_stylegan2/len(df_stylegan2_cars)*100:.2f}%\")"
   ]
  },
  {
   "cell_type": "markdown",
   "metadata": {},
   "source": [
    "# Hypothesis testing"
   ]
  },
  {
   "cell_type": "code",
   "execution_count": 5,
   "metadata": {},
   "outputs": [
    {
     "data": {
      "text/plain": [
       "0.745"
      ]
     },
     "execution_count": 5,
     "metadata": {},
     "output_type": "execute_result"
    }
   ],
   "source": [
    "Sn_stylegan2_cars = cars_in_images_stylegan2/len(df_stylegan2_cars)\n",
    "\n",
    "Sn_stylegan2_cars"
   ]
  },
  {
   "cell_type": "code",
   "execution_count": 7,
   "metadata": {},
   "outputs": [
    {
     "data": {
      "text/html": [
       "<div>\n",
       "<style scoped>\n",
       "    .dataframe tbody tr th:only-of-type {\n",
       "        vertical-align: middle;\n",
       "    }\n",
       "\n",
       "    .dataframe tbody tr th {\n",
       "        vertical-align: top;\n",
       "    }\n",
       "\n",
       "    .dataframe thead th {\n",
       "        text-align: right;\n",
       "    }\n",
       "</style>\n",
       "<table border=\"1\" class=\"dataframe\">\n",
       "  <thead>\n",
       "    <tr style=\"text-align: right;\">\n",
       "      <th></th>\n",
       "      <th>Method</th>\n",
       "      <th>Experiment</th>\n",
       "      <th>N</th>\n",
       "      <th>Sn</th>\n",
       "      <th>p0=0.5</th>\n",
       "      <th>p0=0.6</th>\n",
       "      <th>p0=0.7</th>\n",
       "      <th>p0=0.8</th>\n",
       "      <th>p0=0.9</th>\n",
       "      <th>p0 for confidence=0.95</th>\n",
       "    </tr>\n",
       "  </thead>\n",
       "  <tbody>\n",
       "    <tr>\n",
       "      <th>0</th>\n",
       "      <td>CNN</td>\n",
       "      <td>stylegan2 cars</td>\n",
       "      <td>200</td>\n",
       "      <td>0.745</td>\n",
       "      <td>1.0</td>\n",
       "      <td>1.0</td>\n",
       "      <td>0.555</td>\n",
       "      <td>0</td>\n",
       "      <td>0</td>\n",
       "      <td>0.658</td>\n",
       "    </tr>\n",
       "  </tbody>\n",
       "</table>\n",
       "</div>"
      ],
      "text/plain": [
       "  Method      Experiment    N     Sn  p0=0.5  p0=0.6  p0=0.7  p0=0.8  p0=0.9  \\\n",
       "0    CNN  stylegan2 cars  200  0.745     1.0     1.0   0.555       0       0   \n",
       "\n",
       "   p0 for confidence=0.95  \n",
       "0                   0.658  "
      ]
     },
     "execution_count": 7,
     "metadata": {},
     "output_type": "execute_result"
    }
   ],
   "source": [
    "import numpy as np\n",
    "\n",
    "def add_results_row(results, experiment_name, N, Sn, p0_to_test=[0.5, 0.6, 0.7, 0.8, 0.9]):\n",
    "    results[\"Method\"].append(\"CNN\")\n",
    "    results[\"Experiment\"].append(experiment_name)\n",
    "    results[\"N\"].append(N)\n",
    "    results[\"Sn\"].append(Sn)\n",
    "    for p0 in p0_to_test:\n",
    "        if Sn <= p0:\n",
    "            results[f\"p0={p0}\"].append(0)\n",
    "            continue\n",
    "        delta = np.exp(-2*N*(Sn-p0)**2)\n",
    "        results[f\"p0={p0}\"].append(round(1-delta, 3))\n",
    "    p0_for_CI_095 = Sn - np.sqrt(np.log(0.05)/(-2*N))\n",
    "    results[\"p0 for confidence=0.95\"].append(round(p0_for_CI_095, 3))\n",
    "\n",
    "results = {\n",
    "    \"Method\": [],\n",
    "    \"Experiment\": [],\n",
    "    \"N\": [],\n",
    "    \"Sn\" : [],\n",
    "    \"p0=0.5\": [],\n",
    "    \"p0=0.6\": [],\n",
    "    \"p0=0.7\": [],\n",
    "    \"p0=0.8\": [],\n",
    "    \"p0=0.9\": [],\n",
    "    \"p0 for confidence=0.95\": [],\n",
    "}\n",
    "\n",
    "add_results_row(results, \"stylegan2 cars\", len(df_stylegan2_cars), Sn_stylegan2_cars)\n",
    "\n",
    "df_results = pd.DataFrame(results)\n",
    "df_results.to_csv(\"confidence_matrix_CNN_stylegan2.csv\", index=False)\n",
    "df_results"
   ]
  }
 ],
 "metadata": {
  "kernelspec": {
   "display_name": "gnn-homeworks",
   "language": "python",
   "name": "python3"
  },
  "language_info": {
   "codemirror_mode": {
    "name": "ipython",
    "version": 3
   },
   "file_extension": ".py",
   "mimetype": "text/x-python",
   "name": "python",
   "nbconvert_exporter": "python",
   "pygments_lexer": "ipython3",
   "version": "3.11.4"
  }
 },
 "nbformat": 4,
 "nbformat_minor": 2
}
