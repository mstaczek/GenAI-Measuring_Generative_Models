{
 "cells": [
  {
   "cell_type": "markdown",
   "metadata": {},
   "source": [
    "# CNN - ConvNextV2\n",
    "\n",
    "https://huggingface.co/facebook/convnextv2-tiny-1k-224"
   ]
  },
  {
   "cell_type": "code",
   "execution_count": 2,
   "metadata": {},
   "outputs": [
    {
     "name": "stderr",
     "output_type": "stream",
     "text": [
      "t:\\win_programs\\python_venvs\\gnn-homeworks\\Lib\\site-packages\\tqdm\\auto.py:21: TqdmWarning: IProgress not found. Please update jupyter and ipywidgets. See https://ipywidgets.readthedocs.io/en/stable/user_install.html\n",
      "  from .autonotebook import tqdm as notebook_tqdm\n"
     ]
    }
   ],
   "source": [
    "import pandas as pd\n",
    "from transformers import pipeline\n",
    "\n",
    "classifier = pipeline(\"image-classification\", model=\"facebook/convnextv2-tiny-1k-224\")"
   ]
  },
  {
   "cell_type": "code",
   "execution_count": 3,
   "metadata": {},
   "outputs": [],
   "source": [
    "from PIL import Image\n",
    "import os\n",
    "import zipfile\n",
    "from tqdm import tqdm\n",
    "import shutil\n",
    "\n",
    "    \n",
    "def classify_images(zip_name, output_suffix, drive_path_root):\n",
    "\n",
    "    path_to_zip = drive_path_root + zip_name\n",
    "    path_extracted = \"/content\" + zip_name\n",
    "\n",
    "    print('ZIP source:', path_to_zip)\n",
    "    print(\"Extracting to\", path_extracted)\n",
    "\n",
    "    os.makedirs(path_extracted, exist_ok=True)\n",
    "\n",
    "    with zipfile.ZipFile(path_to_zip, 'r') as zip_ref:\n",
    "        zip_ref.extractall(path_extracted)\n",
    "\n",
    "    image_paths = [path_extracted +'/'+p for p in os.listdir(path_extracted) if p.endswith(\".png\")]\n",
    "    print(f'Found {len(image_paths)} images in {path_extracted}')\n",
    "\n",
    "    model_predictions_top_5 = []\n",
    "    model_predictions_top_1 = []\n",
    "\n",
    "    for image_path in tqdm(image_paths):\n",
    "        image = Image.open(image_path).convert(\"RGB\")\n",
    "        prediction = classifier(image)\n",
    "        model_predictions_top_5.append({\n",
    "            \"image_path\": image_path,\n",
    "            \"predictions\": prediction\n",
    "        })\n",
    "        model_predictions_top_1.append({\n",
    "            \"image_path\": image_path,\n",
    "            \"prediction\": prediction[0]['label'],\n",
    "            \"score\": round(prediction[0]['score'], 2)\n",
    "        })\n",
    "\n",
    "    output_top_1_name = f\"classifier_predictions_top_1_{output_suffix}.csv\"\n",
    "    output_top_5_name = f\"classifier_predictions_top_5_{output_suffix}.csv\"\n",
    "\n",
    "    # save model_predictions_top_1 as a csv\n",
    "    df = pd.DataFrame(model_predictions_top_1)\n",
    "    df.to_csv(output_top_1_name, index=True)\n",
    "\n",
    "    # save model_predictions_top_5 as a csv\n",
    "    # model_predictions_top_5 has a nested list of dictionaries, so we need to flatten it\n",
    "    model_predictions_all_flat = []\n",
    "    for image in model_predictions_top_5:\n",
    "        for prediction_position, prediction in enumerate(image['predictions']):\n",
    "            model_predictions_all_flat.append({\n",
    "                \"image_path\": image['image_path'],\n",
    "                \"prediction_position\": prediction_position,\n",
    "                \"label\": prediction['label'],\n",
    "                \"score\": round(prediction['score'], 2)\n",
    "            })\n",
    "\n",
    "    # save model_predictions_all_flat as a csv\n",
    "    df = pd.DataFrame(model_predictions_all_flat)\n",
    "    df.to_csv(output_top_5_name, index=True)\n",
    "\n",
    "    # copy to google drive\n",
    "    shutil.copyfile(output_top_1_name, drive_path_root + '/' + zip_name.split('/')[1] + '/' + output_top_1_name)\n",
    "    print(\"Finished, saved to\", drive_path_root + '/' + zip_name.split('/')[1] + '/' + output_top_1_name)\n",
    "\n",
    "    shutil.copyfile(output_top_5_name, drive_path_root + '/' + zip_name.split('/')[1] + '/' + output_top_5_name)\n",
    "    print(\"Finished, saved to\", drive_path_root + '/' + zip_name.split('/')[1] + '/' + output_top_5_name)\n",
    "\n",
    "    # clean up\n",
    "    shutil.rmtree(path_extracted)"
   ]
  },
  {
   "cell_type": "code",
   "execution_count": 40,
   "metadata": {},
   "outputs": [],
   "source": [
    "# root_path = \"datasets_generated_ready_models\"\n",
    "# zip_name = \"/SD_XL/cars_zipped.zip\"\n",
    "# output_prefix = 'cars'\n",
    "\n",
    "# classify_images(zip_name, output_suffix, drive_path_root=root_path)"
   ]
  },
  {
   "cell_type": "code",
   "execution_count": 42,
   "metadata": {},
   "outputs": [
    {
     "name": "stdout",
     "output_type": "stream",
     "text": [
      "ZIP source: datasets_generated_ready_models/DALLE3/dalle_cars_zipped.zip\n",
      "Extracting to /content/DALLE3/dalle_cars_zipped.zip\n",
      "Found 50 images in /content/DALLE3/dalle_cars_zipped.zip\n"
     ]
    },
    {
     "name": "stderr",
     "output_type": "stream",
     "text": [
      "100%|██████████| 50/50 [00:12<00:00,  4.13it/s]\n"
     ]
    },
    {
     "name": "stdout",
     "output_type": "stream",
     "text": [
      "Finished, saved to datasets_generated_ready_models/DALLE3/classifier_predictions_top_1_cars.csv\n",
      "Finished, saved to datasets_generated_ready_models/DALLE3/classifier_predictions_top_5_cars.csv\n",
      "ZIP source: datasets_generated_ready_models/DALLE3/dalle_wildlife_zipped.zip\n",
      "Extracting to /content/DALLE3/dalle_wildlife_zipped.zip\n",
      "Found 50 images in /content/DALLE3/dalle_wildlife_zipped.zip\n"
     ]
    },
    {
     "name": "stderr",
     "output_type": "stream",
     "text": [
      "100%|██████████| 50/50 [00:17<00:00,  2.91it/s]\n"
     ]
    },
    {
     "name": "stdout",
     "output_type": "stream",
     "text": [
      "Finished, saved to datasets_generated_ready_models/DALLE3/classifier_predictions_top_1_wildlife.csv\n",
      "Finished, saved to datasets_generated_ready_models/DALLE3/classifier_predictions_top_5_wildlife.csv\n",
      "ZIP source: datasets_generated_ready_models/SD_XL/cars_zipped.zip\n",
      "Extracting to /content/SD_XL/cars_zipped.zip\n",
      "Found 50 images in /content/SD_XL/cars_zipped.zip\n"
     ]
    },
    {
     "name": "stderr",
     "output_type": "stream",
     "text": [
      "100%|██████████| 50/50 [00:16<00:00,  3.09it/s]\n"
     ]
    },
    {
     "name": "stdout",
     "output_type": "stream",
     "text": [
      "Finished, saved to datasets_generated_ready_models/SD_XL/classifier_predictions_top_1_cars.csv\n",
      "Finished, saved to datasets_generated_ready_models/SD_XL/classifier_predictions_top_5_cars.csv\n",
      "ZIP source: datasets_generated_ready_models/SD_XL/wildlife_zipped.zip\n",
      "Extracting to /content/SD_XL/wildlife_zipped.zip\n",
      "Found 50 images in /content/SD_XL/wildlife_zipped.zip\n"
     ]
    },
    {
     "name": "stderr",
     "output_type": "stream",
     "text": [
      "100%|██████████| 50/50 [00:15<00:00,  3.27it/s]"
     ]
    },
    {
     "name": "stdout",
     "output_type": "stream",
     "text": [
      "Finished, saved to datasets_generated_ready_models/SD_XL/classifier_predictions_top_1_wildlife.csv\n",
      "Finished, saved to datasets_generated_ready_models/SD_XL/classifier_predictions_top_5_wildlife.csv\n"
     ]
    },
    {
     "name": "stderr",
     "output_type": "stream",
     "text": [
      "\n"
     ]
    }
   ],
   "source": [
    "root_path = \"datasets_generated_ready_models\"\n",
    "zip_names_and_suffices = [\n",
    "    (\"/DALLE3/dalle_cars_zipped.zip\", \"cars\"),\n",
    "    (\"/DALLE3/dalle_wildlife_zipped.zip\", \"wildlife\"),\n",
    "\n",
    "    (\"/SD_XL/cars_zipped.zip\", \"cars\"),\n",
    "    (\"/SD_XL/wildlife_zipped.zip\", \"wildlife\"),\n",
    "]\n",
    "\n",
    "for zip_name, output_suffix in zip_names_and_suffices:\n",
    "    classify_images(zip_name, output_suffix, drive_path_root=root_path)"
   ]
  },
  {
   "cell_type": "markdown",
   "metadata": {},
   "source": [
    "# Object detection\n",
    "\n",
    "Source: https://docs.ultralytics.com/models/yolov8/"
   ]
  },
  {
   "cell_type": "code",
   "execution_count": 29,
   "metadata": {},
   "outputs": [],
   "source": [
    "from ultralyticsplus import YOLO\n",
    "\n",
    "# load model\n",
    "model = YOLO('ultralyticsplus/yolov8m')\n",
    "\n",
    "# known classes from https://huggingface.co/ultralyticsplus/yolov8s\n",
    "known_classes = ['person', 'bicycle', 'car', 'motorcycle', 'airplane', 'bus', 'train', 'truck', 'boat', 'traffic light', 'fire hydrant', 'stop sign', 'parking meter', 'bench', 'bird', 'cat', 'dog', 'horse', 'sheep', 'cow', 'elephant', 'bear', 'zebra', 'giraffe', 'backpack', 'umbrella', 'handbag', 'tie', 'suitcase', 'frisbee', 'skis', 'snowboard', 'sports ball', 'kite', 'baseball bat', 'baseball glove', 'skateboard', 'surfboard', 'tennis racket', 'bottle', 'wine glass', 'cup', 'fork', 'knife', 'spoon', 'bowl', 'banana', 'apple', 'sandwich', 'orange', 'broccoli', 'carrot', 'hot dog', 'pizza', 'donut', 'cake', 'chair', 'couch', 'potted plant', 'bed', 'dining table', 'toilet', 'tv', 'laptop', 'mouse', 'remote', 'keyboard', 'cell phone', 'microwave', 'oven', 'toaster', 'sink', 'refrigerator', 'book', 'clock', 'vase', 'scissors', 'teddy bear', 'hair drier', 'toothbrush']\n",
    "\n",
    "# set model parameters\n",
    "model.overrides['conf'] = 0.25  # NMS confidence threshold\n",
    "model.overrides['iou'] = 0.45  # NMS IoU threshold\n",
    "model.overrides['agnostic_nms'] = False  # NMS class-agnostic\n",
    "model.overrides['max_det'] = 100  # maximum number of detections per image"
   ]
  },
  {
   "cell_type": "code",
   "execution_count": 26,
   "metadata": {},
   "outputs": [],
   "source": [
    "from PIL import Image\n",
    "import os\n",
    "import zipfile\n",
    "from tqdm import tqdm\n",
    "import shutil\n",
    "\n",
    "    \n",
    "def detect_objects_on_images(zip_name, output_suffix, drive_path_root, known_classes=known_classes):\n",
    "\n",
    "    path_to_zip = drive_path_root + zip_name\n",
    "    path_extracted = \"/content\" + zip_name\n",
    "\n",
    "    print('ZIP source:', path_to_zip)\n",
    "    print(\"Extracting to\", path_extracted)\n",
    "\n",
    "    os.makedirs(path_extracted, exist_ok=True)\n",
    "\n",
    "    with zipfile.ZipFile(path_to_zip, 'r') as zip_ref:\n",
    "        zip_ref.extractall(path_extracted)\n",
    "\n",
    "    image_paths = [path_extracted +'/'+p for p in os.listdir(path_extracted) if p.endswith(\".png\")]\n",
    "    print(f'Found {len(image_paths)} images in {path_extracted}')\n",
    "\n",
    "    detected_objects = []\n",
    "    results_images_with_boxes = []\n",
    "\n",
    "    for image_path in tqdm(image_paths):\n",
    "        image = Image.open(image_path).convert(\"RGB\")\n",
    "        results = model.predict(image, verbose=False)\n",
    "\n",
    "        # add detected objects with confidence to list\n",
    "        for i in range(len(results)):\n",
    "            for j in range(len(results[i].boxes)):\n",
    "                predicted_class = known_classes[results[i].boxes[j].cls.int().item()]\n",
    "                confidence = round(results[i].boxes[j].conf.item(), 2)\n",
    "\n",
    "                detected_objects.append({\n",
    "                    \"image_path\": image_path,\n",
    "                    \"predicted_class\": predicted_class,\n",
    "                    \"confidence\": confidence\n",
    "                })\n",
    "\n",
    "        # add image with boxes to list\n",
    "        results_images_with_boxes.append({\n",
    "            \"image_path\": image_path,\n",
    "            \"results\": results[0]\n",
    "        })\n",
    "\n",
    "    output_detected_objects_name = f\"detected_objects_{output_suffix}.csv\"\n",
    "    output_images_with_boxes_name = f\"images_with_boxes_{output_suffix}\"\n",
    "\n",
    "    # save detected_objects as a csv\n",
    "    df = pd.DataFrame(detected_objects)\n",
    "    df.to_csv(output_detected_objects_name, index=True)\n",
    "\n",
    "    # save images_with_boxes as a zip\n",
    "    os.makedirs(output_images_with_boxes_name, exist_ok=True)\n",
    "    for image in results_images_with_boxes:\n",
    "        image['results'].save(output_images_with_boxes_name + '/' + image['image_path'].split('/')[-1])\n",
    "\n",
    "    # zip the folder\n",
    "    shutil.make_archive(output_images_with_boxes_name, 'zip', output_images_with_boxes_name)\n",
    "\n",
    "    # # copy to google drive\n",
    "    shutil.copyfile(output_detected_objects_name, drive_path_root + '/' + zip_name.split('/')[1] + '/' + output_detected_objects_name)\n",
    "    print(\"Finished, saved to\", drive_path_root + '/' + zip_name.split('/')[1] + '/' + output_detected_objects_name)\n",
    "\n",
    "    shutil.copyfile(output_images_with_boxes_name + '.zip', drive_path_root + '/' + zip_name.split('/')[1] + '/' + output_images_with_boxes_name + '.zip')\n",
    "    print(\"Finished, saved to\", drive_path_root + '/' + zip_name.split('/')[1] + '/' + output_images_with_boxes_name + '.zip')\n",
    "    \n",
    "    # # clean up\n",
    "    shutil.rmtree(output_images_with_boxes_name)\n",
    "    shutil.rmtree(path_extracted)"
   ]
  },
  {
   "cell_type": "code",
   "execution_count": 24,
   "metadata": {},
   "outputs": [
    {
     "name": "stdout",
     "output_type": "stream",
     "text": [
      "ZIP source: datasets_generated_ready_models/DALLE3/dalle_cars_zipped.zip\n",
      "Extracting to /content/DALLE3/dalle_cars_zipped.zip\n",
      "Found 50 images in /content/DALLE3/dalle_cars_zipped.zip\n"
     ]
    },
    {
     "name": "stderr",
     "output_type": "stream",
     "text": [
      "100%|██████████| 50/50 [00:43<00:00,  1.14it/s]\n"
     ]
    },
    {
     "name": "stdout",
     "output_type": "stream",
     "text": [
      "Finished, saved to datasets_generated_ready_models/DALLE3/detected_objects_cars.csv\n",
      "Finished, saved to datasets_generated_ready_models/DALLE3/images_with_boxes_cars.zip\n",
      "ZIP source: datasets_generated_ready_models/DALLE3/dalle_wildlife_zipped.zip\n",
      "Extracting to /content/DALLE3/dalle_wildlife_zipped.zip\n",
      "Found 50 images in /content/DALLE3/dalle_wildlife_zipped.zip\n"
     ]
    },
    {
     "name": "stderr",
     "output_type": "stream",
     "text": [
      "100%|██████████| 50/50 [00:14<00:00,  3.50it/s]\n"
     ]
    },
    {
     "name": "stdout",
     "output_type": "stream",
     "text": [
      "Finished, saved to datasets_generated_ready_models/DALLE3/detected_objects_wildlife.csv\n",
      "Finished, saved to datasets_generated_ready_models/DALLE3/images_with_boxes_wildlife.zip\n",
      "ZIP source: datasets_generated_ready_models/SD_XL/cars_zipped.zip\n",
      "Extracting to /content/SD_XL/cars_zipped.zip\n",
      "Found 50 images in /content/SD_XL/cars_zipped.zip\n"
     ]
    },
    {
     "name": "stderr",
     "output_type": "stream",
     "text": [
      "100%|██████████| 50/50 [00:14<00:00,  3.36it/s]\n"
     ]
    },
    {
     "name": "stdout",
     "output_type": "stream",
     "text": [
      "Finished, saved to datasets_generated_ready_models/SD_XL/detected_objects_cars.csv\n",
      "Finished, saved to datasets_generated_ready_models/SD_XL/images_with_boxes_cars.zip\n",
      "ZIP source: datasets_generated_ready_models/SD_XL/wildlife_zipped.zip\n",
      "Extracting to /content/SD_XL/wildlife_zipped.zip\n",
      "Found 50 images in /content/SD_XL/wildlife_zipped.zip\n"
     ]
    },
    {
     "name": "stderr",
     "output_type": "stream",
     "text": [
      "100%|██████████| 50/50 [00:13<00:00,  3.59it/s]\n"
     ]
    },
    {
     "name": "stdout",
     "output_type": "stream",
     "text": [
      "Finished, saved to datasets_generated_ready_models/SD_XL/detected_objects_wildlife.csv\n",
      "Finished, saved to datasets_generated_ready_models/SD_XL/images_with_boxes_wildlife.zip\n"
     ]
    }
   ],
   "source": [
    "root_path = \"datasets_generated_ready_models\"\n",
    "zip_names_and_suffices = [\n",
    "    (\"/DALLE3/dalle_cars_zipped.zip\", \"cars\"),\n",
    "    (\"/DALLE3/dalle_wildlife_zipped.zip\", \"wildlife\"),\n",
    "\n",
    "    (\"/SD_XL/cars_zipped.zip\", \"cars\"),\n",
    "    (\"/SD_XL/wildlife_zipped.zip\", \"wildlife\"),\n",
    "]\n",
    "\n",
    "for zip_name, output_suffix in zip_names_and_suffices:\n",
    "    detect_objects_on_images(zip_name, output_suffix, drive_path_root=root_path)\n"
   ]
  }
 ],
 "metadata": {
  "kernelspec": {
   "display_name": "gnn-homeworks",
   "language": "python",
   "name": "python3"
  },
  "language_info": {
   "codemirror_mode": {
    "name": "ipython",
    "version": 3
   },
   "file_extension": ".py",
   "mimetype": "text/x-python",
   "name": "python",
   "nbconvert_exporter": "python",
   "pygments_lexer": "ipython3",
   "version": "3.11.4"
  }
 },
 "nbformat": 4,
 "nbformat_minor": 2
}
