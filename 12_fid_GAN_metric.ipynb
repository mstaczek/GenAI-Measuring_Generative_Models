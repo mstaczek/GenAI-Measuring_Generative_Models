{
 "cells": [
  {
   "cell_type": "markdown",
   "metadata": {},
   "source": [
    "# Commands run to compute FID score\n",
    "\n",
    "First, between StyleGAN 2 images and Stanford cars images (200 vs 400). \n",
    "\n",
    "Next, between StyleGAN 2 images and wildlife images from DALL-E 3 (200 vs 50). "
   ]
  },
  {
   "cell_type": "code",
   "execution_count": 1,
   "metadata": {},
   "outputs": [
    {
     "name": "stdout",
     "output_type": "stream",
     "text": [
      "FID:  81.86816808876597\n"
     ]
    },
    {
     "name": "stderr",
     "output_type": "stream",
     "text": [
      "\n",
      "  0%|          | 0/4 [00:00<?, ?it/s]\n",
      " 25%|██▌       | 1/4 [00:18<00:55, 18.55s/it]\n",
      " 50%|█████     | 2/4 [00:20<00:17,  8.58s/it]\n",
      " 75%|███████▌  | 3/4 [00:21<00:05,  5.46s/it]\n",
      "100%|██████████| 4/4 [00:23<00:00,  3.99s/it]\n",
      "100%|██████████| 4/4 [00:25<00:00,  6.27s/it]\n",
      "\n",
      "  0%|          | 0/8 [00:00<?, ?it/s]\n",
      " 12%|█▎        | 1/8 [00:15<01:47, 15.29s/it]\n",
      " 25%|██▌       | 2/8 [00:17<00:45,  7.63s/it]\n",
      " 38%|███▊      | 3/8 [00:19<00:25,  5.17s/it]\n",
      " 50%|█████     | 4/8 [00:22<00:16,  4.03s/it]\n",
      " 62%|██████▎   | 5/8 [00:24<00:10,  3.38s/it]\n",
      " 75%|███████▌  | 6/8 [00:28<00:07,  3.80s/it]\n",
      " 88%|████████▊ | 7/8 [00:34<00:04,  4.44s/it]\n",
      "100%|██████████| 8/8 [00:37<00:00,  3.79s/it]\n",
      "100%|██████████| 8/8 [00:38<00:00,  4.83s/it]\n"
     ]
    }
   ],
   "source": [
    "!python -m pytorch_fid \"datasets_generated_ready_models\\stylegan2\\generated_images\" \"datasets_generated_ready_models\\stylegan2\\stanford_cars\\for_fid\""
   ]
  },
  {
   "cell_type": "code",
   "execution_count": 2,
   "metadata": {},
   "outputs": [
    {
     "name": "stdout",
     "output_type": "stream",
     "text": [
      "FID:  299.5036363784915\n"
     ]
    },
    {
     "name": "stderr",
     "output_type": "stream",
     "text": [
      "\n",
      "  0%|          | 0/4 [00:00<?, ?it/s]\n",
      " 25%|██▌       | 1/4 [00:20<01:01, 20.45s/it]\n",
      " 50%|█████     | 2/4 [00:22<00:18,  9.45s/it]\n",
      " 75%|███████▌  | 3/4 [00:24<00:05,  5.97s/it]\n",
      "100%|██████████| 4/4 [00:25<00:00,  4.36s/it]\n",
      "100%|██████████| 4/4 [00:27<00:00,  6.89s/it]\n",
      "\n",
      "  0%|          | 0/1 [00:00<?, ?it/s]\n",
      "100%|██████████| 1/1 [00:18<00:00, 18.83s/it]\n",
      "100%|██████████| 1/1 [00:20<00:00, 20.52s/it]\n"
     ]
    }
   ],
   "source": [
    "!python -m pytorch_fid \"datasets_generated_ready_models\\stylegan2\\generated_images\" \"datasets_generated_ready_models\\stylegan2\\dalle_wildlife_zipped_other_images\""
   ]
  }
 ],
 "metadata": {
  "kernelspec": {
   "display_name": "gnn-homeworks",
   "language": "python",
   "name": "python3"
  },
  "language_info": {
   "codemirror_mode": {
    "name": "ipython",
    "version": 3
   },
   "file_extension": ".py",
   "mimetype": "text/x-python",
   "name": "python",
   "nbconvert_exporter": "python",
   "pygments_lexer": "ipython3",
   "version": "3.11.4"
  }
 },
 "nbformat": 4,
 "nbformat_minor": 2
}
