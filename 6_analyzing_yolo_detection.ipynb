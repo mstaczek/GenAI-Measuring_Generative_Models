{
 "cells": [
  {
   "cell_type": "code",
   "execution_count": 1,
   "metadata": {},
   "outputs": [],
   "source": [
    "import pandas as pd\n",
    "\n",
    "YOLO_CARS_CLASSES = [\"car\", \"bus\", \"truck\"]"
   ]
  },
  {
   "cell_type": "markdown",
   "metadata": {},
   "source": [
    "# YOLO - only cars\n",
    "\n",
    "for wildlife it did not know the names of animals"
   ]
  },
  {
   "cell_type": "code",
   "execution_count": 8,
   "metadata": {},
   "outputs": [
    {
     "data": {
      "text/html": [
       "<div>\n",
       "<style scoped>\n",
       "    .dataframe tbody tr th:only-of-type {\n",
       "        vertical-align: middle;\n",
       "    }\n",
       "\n",
       "    .dataframe tbody tr th {\n",
       "        vertical-align: top;\n",
       "    }\n",
       "\n",
       "    .dataframe thead th {\n",
       "        text-align: right;\n",
       "    }\n",
       "</style>\n",
       "<table border=\"1\" class=\"dataframe\">\n",
       "  <thead>\n",
       "    <tr style=\"text-align: right;\">\n",
       "      <th></th>\n",
       "      <th>Unnamed: 0</th>\n",
       "      <th>image_path</th>\n",
       "      <th>predicted_class</th>\n",
       "      <th>confidence</th>\n",
       "    </tr>\n",
       "  </thead>\n",
       "  <tbody>\n",
       "    <tr>\n",
       "      <th>0</th>\n",
       "      <td>0</td>\n",
       "      <td>/content/SD_XL/cars_zipped.zip/cars_img_0.png</td>\n",
       "      <td>train</td>\n",
       "      <td>0.71</td>\n",
       "    </tr>\n",
       "    <tr>\n",
       "      <th>1</th>\n",
       "      <td>1</td>\n",
       "      <td>/content/SD_XL/cars_zipped.zip/cars_img_0.png</td>\n",
       "      <td>car</td>\n",
       "      <td>0.33</td>\n",
       "    </tr>\n",
       "    <tr>\n",
       "      <th>2</th>\n",
       "      <td>2</td>\n",
       "      <td>/content/SD_XL/cars_zipped.zip/cars_img_1.png</td>\n",
       "      <td>car</td>\n",
       "      <td>0.80</td>\n",
       "    </tr>\n",
       "  </tbody>\n",
       "</table>\n",
       "</div>"
      ],
      "text/plain": [
       "   Unnamed: 0                                     image_path predicted_class  \\\n",
       "0           0  /content/SD_XL/cars_zipped.zip/cars_img_0.png           train   \n",
       "1           1  /content/SD_XL/cars_zipped.zip/cars_img_0.png             car   \n",
       "2           2  /content/SD_XL/cars_zipped.zip/cars_img_1.png             car   \n",
       "\n",
       "   confidence  \n",
       "0        0.71  \n",
       "1        0.33  \n",
       "2        0.80  "
      ]
     },
     "execution_count": 8,
     "metadata": {},
     "output_type": "execute_result"
    }
   ],
   "source": [
    "path_to_csv = 'datasets_generated_ready_models/SD_XL/detected_objects_cars.csv'\n",
    "df_sdxl_cars = pd.read_csv(path_to_csv)\n",
    "df_sdxl_cars.head(3)"
   ]
  },
  {
   "cell_type": "code",
   "execution_count": 9,
   "metadata": {},
   "outputs": [
    {
     "data": {
      "text/html": [
       "<div>\n",
       "<style scoped>\n",
       "    .dataframe tbody tr th:only-of-type {\n",
       "        vertical-align: middle;\n",
       "    }\n",
       "\n",
       "    .dataframe tbody tr th {\n",
       "        vertical-align: top;\n",
       "    }\n",
       "\n",
       "    .dataframe thead th {\n",
       "        text-align: right;\n",
       "    }\n",
       "</style>\n",
       "<table border=\"1\" class=\"dataframe\">\n",
       "  <thead>\n",
       "    <tr style=\"text-align: right;\">\n",
       "      <th></th>\n",
       "      <th>Unnamed: 0</th>\n",
       "      <th>image_path</th>\n",
       "      <th>predicted_class</th>\n",
       "      <th>confidence</th>\n",
       "    </tr>\n",
       "  </thead>\n",
       "  <tbody>\n",
       "    <tr>\n",
       "      <th>0</th>\n",
       "      <td>0</td>\n",
       "      <td>/content/DALLE3/dalle_cars_zipped.zip/car_img0...</td>\n",
       "      <td>car</td>\n",
       "      <td>0.94</td>\n",
       "    </tr>\n",
       "    <tr>\n",
       "      <th>1</th>\n",
       "      <td>1</td>\n",
       "      <td>/content/DALLE3/dalle_cars_zipped.zip/car_img1...</td>\n",
       "      <td>car</td>\n",
       "      <td>0.96</td>\n",
       "    </tr>\n",
       "    <tr>\n",
       "      <th>2</th>\n",
       "      <td>2</td>\n",
       "      <td>/content/DALLE3/dalle_cars_zipped.zip/car_img1...</td>\n",
       "      <td>potted plant</td>\n",
       "      <td>0.68</td>\n",
       "    </tr>\n",
       "  </tbody>\n",
       "</table>\n",
       "</div>"
      ],
      "text/plain": [
       "   Unnamed: 0                                         image_path  \\\n",
       "0           0  /content/DALLE3/dalle_cars_zipped.zip/car_img0...   \n",
       "1           1  /content/DALLE3/dalle_cars_zipped.zip/car_img1...   \n",
       "2           2  /content/DALLE3/dalle_cars_zipped.zip/car_img1...   \n",
       "\n",
       "  predicted_class  confidence  \n",
       "0             car        0.94  \n",
       "1             car        0.96  \n",
       "2    potted plant        0.68  "
      ]
     },
     "execution_count": 9,
     "metadata": {},
     "output_type": "execute_result"
    }
   ],
   "source": [
    "path_to_csv = 'datasets_generated_ready_models/DALLE3/detected_objects_cars.csv'\n",
    "df_dalle_cars = pd.read_csv(path_to_csv)\n",
    "df_dalle_cars.head(3)"
   ]
  },
  {
   "cell_type": "markdown",
   "metadata": {},
   "source": [
    "Filter-out non-car objects, count unique image_paths."
   ]
  },
  {
   "cell_type": "code",
   "execution_count": 21,
   "metadata": {},
   "outputs": [
    {
     "data": {
      "text/html": [
       "<div>\n",
       "<style scoped>\n",
       "    .dataframe tbody tr th:only-of-type {\n",
       "        vertical-align: middle;\n",
       "    }\n",
       "\n",
       "    .dataframe tbody tr th {\n",
       "        vertical-align: top;\n",
       "    }\n",
       "\n",
       "    .dataframe thead th {\n",
       "        text-align: right;\n",
       "    }\n",
       "</style>\n",
       "<table border=\"1\" class=\"dataframe\">\n",
       "  <thead>\n",
       "    <tr style=\"text-align: right;\">\n",
       "      <th></th>\n",
       "      <th>Unnamed: 0</th>\n",
       "      <th>image_path</th>\n",
       "      <th>predicted_class</th>\n",
       "      <th>confidence</th>\n",
       "      <th>class</th>\n",
       "    </tr>\n",
       "  </thead>\n",
       "  <tbody>\n",
       "    <tr>\n",
       "      <th>0</th>\n",
       "      <td>0</td>\n",
       "      <td>/content/SD_XL/cars_zipped.zip/cars_img_0.png</td>\n",
       "      <td>train</td>\n",
       "      <td>0.71</td>\n",
       "      <td>other</td>\n",
       "    </tr>\n",
       "    <tr>\n",
       "      <th>1</th>\n",
       "      <td>1</td>\n",
       "      <td>/content/SD_XL/cars_zipped.zip/cars_img_0.png</td>\n",
       "      <td>car</td>\n",
       "      <td>0.33</td>\n",
       "      <td>car</td>\n",
       "    </tr>\n",
       "    <tr>\n",
       "      <th>2</th>\n",
       "      <td>2</td>\n",
       "      <td>/content/SD_XL/cars_zipped.zip/cars_img_1.png</td>\n",
       "      <td>car</td>\n",
       "      <td>0.80</td>\n",
       "      <td>car</td>\n",
       "    </tr>\n",
       "  </tbody>\n",
       "</table>\n",
       "</div>"
      ],
      "text/plain": [
       "   Unnamed: 0                                     image_path predicted_class  \\\n",
       "0           0  /content/SD_XL/cars_zipped.zip/cars_img_0.png           train   \n",
       "1           1  /content/SD_XL/cars_zipped.zip/cars_img_0.png             car   \n",
       "2           2  /content/SD_XL/cars_zipped.zip/cars_img_1.png             car   \n",
       "\n",
       "   confidence  class  \n",
       "0        0.71  other  \n",
       "1        0.33    car  \n",
       "2        0.80    car  "
      ]
     },
     "execution_count": 21,
     "metadata": {},
     "output_type": "execute_result"
    }
   ],
   "source": [
    "df_sdxl_cars['class'] = df_sdxl_cars['predicted_class'].apply(lambda x: 'car' if x in YOLO_CARS_CLASSES else 'other')\n",
    "df_dalle_cars['class'] = df_dalle_cars['predicted_class'].apply(lambda x: 'car' if x in YOLO_CARS_CLASSES else 'other')\n",
    "\n",
    "df_sdxl_cars.head(3)"
   ]
  },
  {
   "cell_type": "code",
   "execution_count": 22,
   "metadata": {},
   "outputs": [
    {
     "name": "stdout",
     "output_type": "stream",
     "text": [
      "Number of cars detected by SD_XL: 47\n",
      "Number of cars detected by DALLE3: 46\n"
     ]
    }
   ],
   "source": [
    "# count the number of cars detected by each model\n",
    "# 1. filter non cars\n",
    "# 2. count the number of unique image_path\n",
    "df_sdxl_cars_filtered = df_sdxl_cars[df_sdxl_cars['class'] == 'car']\n",
    "df_dalle_cars_filtered = df_dalle_cars[df_dalle_cars['class'] == 'car']\n",
    "\n",
    "print(f\"Number of cars detected by SD_XL: {df_sdxl_cars_filtered['image_path'].nunique()}\")\n",
    "print(f\"Number of cars detected by DALLE3: {df_dalle_cars_filtered['image_path'].nunique()}\")"
   ]
  },
  {
   "cell_type": "markdown",
   "metadata": {},
   "source": [
    "# Hypothesis testing\n",
    "\n",
    "$\\phi(x) = 1$ if at least one car was detected."
   ]
  },
  {
   "cell_type": "code",
   "execution_count": 33,
   "metadata": {},
   "outputs": [
    {
     "data": {
      "text/plain": [
       "(0.94, 0.92)"
      ]
     },
     "execution_count": 33,
     "metadata": {},
     "output_type": "execute_result"
    }
   ],
   "source": [
    "Sn_SDXL_cars = df_sdxl_cars_filtered['image_path'].nunique() / len(df_sdxl_cars['image_path'].unique())\n",
    "Sn_DALLE_cars = df_dalle_cars_filtered['image_path'].nunique() / len(df_dalle_cars['image_path'].unique())\n",
    "\n",
    "Sn_SDXL_cars, Sn_DALLE_cars"
   ]
  },
  {
   "cell_type": "code",
   "execution_count": 41,
   "metadata": {},
   "outputs": [
    {
     "data": {
      "text/html": [
       "<div>\n",
       "<style scoped>\n",
       "    .dataframe tbody tr th:only-of-type {\n",
       "        vertical-align: middle;\n",
       "    }\n",
       "\n",
       "    .dataframe tbody tr th {\n",
       "        vertical-align: top;\n",
       "    }\n",
       "\n",
       "    .dataframe thead th {\n",
       "        text-align: right;\n",
       "    }\n",
       "</style>\n",
       "<table border=\"1\" class=\"dataframe\">\n",
       "  <thead>\n",
       "    <tr style=\"text-align: right;\">\n",
       "      <th></th>\n",
       "      <th>Method</th>\n",
       "      <th>Experiment</th>\n",
       "      <th>N</th>\n",
       "      <th>Sn</th>\n",
       "      <th>p0=0.5</th>\n",
       "      <th>p0=0.6</th>\n",
       "      <th>p0=0.7</th>\n",
       "      <th>p0=0.8</th>\n",
       "      <th>p0=0.9</th>\n",
       "      <th>p0 for confidence=0.95</th>\n",
       "    </tr>\n",
       "  </thead>\n",
       "  <tbody>\n",
       "    <tr>\n",
       "      <th>0</th>\n",
       "      <td>YOLO</td>\n",
       "      <td>SDXL cars</td>\n",
       "      <td>50</td>\n",
       "      <td>0.94</td>\n",
       "      <td>1.0</td>\n",
       "      <td>1.0</td>\n",
       "      <td>0.997</td>\n",
       "      <td>0.859</td>\n",
       "      <td>0.148</td>\n",
       "      <td>0.767</td>\n",
       "    </tr>\n",
       "    <tr>\n",
       "      <th>1</th>\n",
       "      <td>YOLO</td>\n",
       "      <td>DALLE cars</td>\n",
       "      <td>50</td>\n",
       "      <td>0.92</td>\n",
       "      <td>1.0</td>\n",
       "      <td>1.0</td>\n",
       "      <td>0.992</td>\n",
       "      <td>0.763</td>\n",
       "      <td>0.039</td>\n",
       "      <td>0.747</td>\n",
       "    </tr>\n",
       "  </tbody>\n",
       "</table>\n",
       "</div>"
      ],
      "text/plain": [
       "  Method  Experiment   N    Sn  p0=0.5  p0=0.6  p0=0.7  p0=0.8  p0=0.9  \\\n",
       "0   YOLO   SDXL cars  50  0.94     1.0     1.0   0.997   0.859   0.148   \n",
       "1   YOLO  DALLE cars  50  0.92     1.0     1.0   0.992   0.763   0.039   \n",
       "\n",
       "   p0 for confidence=0.95  \n",
       "0                   0.767  \n",
       "1                   0.747  "
      ]
     },
     "execution_count": 41,
     "metadata": {},
     "output_type": "execute_result"
    }
   ],
   "source": [
    "import numpy as np\n",
    "\n",
    "def add_results_row(results, experiment_name, N, Sn, p0_to_test=[0.5, 0.6, 0.7, 0.8, 0.9]):\n",
    "    results[\"Method\"].append(\"YOLO\")\n",
    "    results[\"Experiment\"].append(experiment_name)\n",
    "    results[\"N\"].append(N)\n",
    "    results[\"Sn\"].append(Sn)\n",
    "    for p0 in p0_to_test:\n",
    "        if Sn <= p0:\n",
    "            results[f\"p0={p0}\"].append(0)\n",
    "            continue\n",
    "        delta = np.exp(-2*N*(Sn-p0)**2)\n",
    "        results[f\"p0={p0}\"].append(round(1-delta, 3))\n",
    "    p0_for_CI_095 = Sn - np.sqrt(np.log(0.05)/(-2*N))\n",
    "    results[\"p0 for confidence=0.95\"].append(round(p0_for_CI_095, 3))\n",
    "\n",
    "results = {\n",
    "    \"Method\": [],\n",
    "    \"Experiment\": [],\n",
    "    \"N\": [],\n",
    "    \"Sn\" : [],\n",
    "    \"p0=0.5\": [],\n",
    "    \"p0=0.6\": [],\n",
    "    \"p0=0.7\": [],\n",
    "    \"p0=0.8\": [],\n",
    "    \"p0=0.9\": [],\n",
    "    \"p0 for confidence=0.95\": [],\n",
    "}\n",
    "\n",
    "add_results_row(results, \"SDXL cars\", 50, Sn_SDXL_cars)\n",
    "add_results_row(results, \"DALLE cars\", 50, Sn_DALLE_cars)\n",
    "\n",
    "df_results = pd.DataFrame(results)\n",
    "df_results.to_csv(\"confidence_matrix_YOLO_SDXL_DALLE.csv\", index=False)\n",
    "df_results"
   ]
  }
 ],
 "metadata": {
  "kernelspec": {
   "display_name": "gnn-homeworks",
   "language": "python",
   "name": "python3"
  },
  "language_info": {
   "codemirror_mode": {
    "name": "ipython",
    "version": 3
   },
   "file_extension": ".py",
   "mimetype": "text/x-python",
   "name": "python",
   "nbconvert_exporter": "python",
   "pygments_lexer": "ipython3",
   "version": "3.11.4"
  }
 },
 "nbformat": 4,
 "nbformat_minor": 2
}
